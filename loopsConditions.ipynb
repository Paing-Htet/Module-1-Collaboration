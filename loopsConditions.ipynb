{
 "cells": [
  {
   "cell_type": "code",
   "execution_count": 25,
   "id": "0a1aa4a8-a089-409e-a56a-7652e2923dce",
   "metadata": {},
   "outputs": [
    {
     "name": "stdin",
     "output_type": "stream",
     "text": [
      "Enter a number between 1 - 10 : 6\n"
     ]
    },
    {
     "name": "stdout",
     "output_type": "stream",
     "text": [
      "just right.\n"
     ]
    }
   ],
   "source": [
    "#4.1,4.2\n",
    "\n",
    "secret = 6\n",
    "guess = int(input(\"Enter a number between 1 - 10 :\" ))\n",
    "if guess == secret:\n",
    "    print(\"just right.\")\n",
    "elif guess > secret:\n",
    "    print(\"too high.\")\n",
    "else:\n",
    "    print(\"too low.\")"
   ]
  },
  {
   "cell_type": "code",
   "execution_count": null,
   "id": "ddfc3606-45d5-448a-b804-ff47591408f5",
   "metadata": {},
   "outputs": [],
   "source": [
    "# 6.1: Use a for loop to print the values of the list [3, 2, 1, 0]\n",
    "print(\"Task 6.1:\")\n",
    "numbers = [3, 2, 1, 0]\n",
    "for number in numbers:\n",
    "    print(number)\n",
    "\n",
    "# 6.2: Use a while loop to compare number with guess_me\n",
    "print(\"\\nTask 6.2:\")\n",
    "guess_me = 7\n",
    "number = 1\n",
    "while number != guess_me:\n",
    "    if number < guess_me:\n",
    "        print(\"too low\")\n",
    "    elif number > guess_me:\n",
    "        print(\"oops\")\n",
    "        break\n",
    "    number += 1\n",
    "\n",
    "if number == guess_me:\n",
    "    print(\"found it!\")\n",
    "\n",
    "# 6.3: Use a for loop with range(10) to compare number with guess_me\n",
    "print(\"\\nTask 6.3:\")\n",
    "guess_me = 5\n",
    "for number in range(10):\n",
    "    if number < guess_me:\n",
    "        print(\"too low\")\n",
    "    elif number == guess_me:\n",
    "        print(\"found it!\")\n",
    "        break\n",
    "    else:\n",
    "        print(\"oops\")\n",
    "        break\n",
    "\n"
   ]
  }
 ],
 "metadata": {
  "kernelspec": {
   "display_name": "Python [conda env:base] *",
   "language": "python",
   "name": "conda-base-py"
  },
  "language_info": {
   "codemirror_mode": {
    "name": "ipython",
    "version": 3
   },
   "file_extension": ".py",
   "mimetype": "text/x-python",
   "name": "python",
   "nbconvert_exporter": "python",
   "pygments_lexer": "ipython3",
   "version": "3.12.7"
  }
 },
 "nbformat": 4,
 "nbformat_minor": 5
}
